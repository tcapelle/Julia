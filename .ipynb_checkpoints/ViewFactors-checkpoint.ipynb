{
 "cells": [
  {
   "cell_type": "code",
   "execution_count": 1,
   "metadata": {},
   "outputs": [],
   "source": [
    "using BenchmarkTools"
   ]
  },
  {
   "cell_type": "code",
   "execution_count": 7,
   "metadata": {},
   "outputs": [],
   "source": [
    "GP = 7\n",
    "C1 = [rand(3) for  i=1:5];\n",
    "C2 = [rand(3) for  i=1:5];"
   ]
  },
  {
   "cell_type": "code",
   "execution_count": 8,
   "metadata": {},
   "outputs": [
    {
     "data": {
      "text/plain": [
       "Gauss (generic function with 2 methods)"
      ]
     },
     "execution_count": 8,
     "metadata": {},
     "output_type": "execute_result"
    }
   ],
   "source": [
    "function Gauss(n, eps=1e-4)\n",
    "    A = zeros(n)  # Preallocations.\n",
    "    W = zeros(n)\n",
    "    m = Int((n+1)/2)\n",
    "    pp=0\n",
    "    for i=1:m\n",
    "        z = cos(pi*(i - 0.25)/(n + 0.5)) # Initial estimate.\n",
    "        z1 = z + 1\n",
    "\n",
    "        while abs(z-z1)>eps\n",
    "            p1 = 1\n",
    "            p2 = 0\n",
    "\n",
    "            for j=1:n\n",
    "                p3 = p2\n",
    "                p2 = p1\n",
    "                p1 = ((2*j-1)*z*p2-(j-1)*p3)/j # The Legendre polynomial.\n",
    "            end\n",
    "            pp = n*(z*p1-p2)/(z^2-1)   # The L.P. derivative.\n",
    "            z1 = z\n",
    "            z = z1-p1/pp\n",
    "        end\n",
    "        A[i] = -z      # Build up the abscissas.\n",
    "        A[n+1-i] = z\n",
    "        W[i] = 2/((1-z^2)*(pp^2))  # Build up the weights.\n",
    "        W[n+1-i] = W[i]\n",
    "    end\n",
    "    return A, W\n",
    "end"
   ]
  },
  {
   "cell_type": "code",
   "execution_count": 55,
   "metadata": {},
   "outputs": [
    {
     "data": {
      "text/plain": [
       "F (generic function with 1 method)"
      ]
     },
     "execution_count": 55,
     "metadata": {},
     "output_type": "execute_result"
    }
   ],
   "source": [
    "function F(s::Float64,\n",
    "        t::Array{Float64, 1},\n",
    "        P1::Array{Float64, 1},\n",
    "        P2::Array{Float64, 1},\n",
    "        P3::Array{Float64, 1},\n",
    "        P4::Array{Float64, 1})::Array{Float64, 1}\n",
    "    \n",
    "    T = (t .+ 1.0)/2.0\n",
    "    X1 = P1' .+ T * (P2-P1)'\n",
    "    S = (s .+ 1.0)/2.0\n",
    "    X2 = P3 .+ S .* (P4-P3)\n",
    "    R = dropdims(sum((X1' .- X2).^2, dims=1),dims=1)\n",
    "    return 0.5.*log.(R) .* sum((P2-P1).*(P4-P3))\n",
    "end                                                      "
   ]
  },
  {
   "cell_type": "code",
   "execution_count": 59,
   "metadata": {},
   "outputs": [],
   "source": [
    "A, W = Gauss(GP);"
   ]
  },
  {
   "cell_type": "code",
   "execution_count": 60,
   "metadata": {},
   "outputs": [
    {
     "data": {
      "text/plain": [
       "VF (generic function with 1 method)"
      ]
     },
     "execution_count": 60,
     "metadata": {},
     "output_type": "execute_result"
    }
   ],
   "source": [
    "function VF(C1::Array{Array{Float64, 1},1}, \n",
    "            C2::Array{Array{Float64, 1},1}, \n",
    "            A::Array{Float64, 1}, \n",
    "            W::Array{Float64, 1})::Float64\n",
    "    L1 = length(C1)-1;\n",
    "    L2 = length(C2)-1;\n",
    "    GP = length(A)\n",
    "    S = 0.0\n",
    "    for i=1:L1 # Loop over segment pairs.\n",
    "        P1 = C1[i]\n",
    "        P2 = C1[i+1]\n",
    "        for j=1:L2      \n",
    "            SM = 0.0\n",
    "            P3 = C2[j]\n",
    "            P4 = C2[j+1]\n",
    "            # Next perform the Gauss-Legendre quadrature\n",
    "            for k=1:GP\n",
    "                SM += sum(W[k] .* W .* F(A[k],A,P1,P2,P3,P4))\n",
    "            end\n",
    "            S += SM\n",
    "        end\n",
    "    end\n",
    "    return S\n",
    "end"
   ]
  },
  {
   "cell_type": "code",
   "execution_count": 62,
   "metadata": {},
   "outputs": [
    {
     "name": "stdout",
     "output_type": "stream",
     "text": [
      "  111.802 μs (2352 allocations: 255.50 KiB)\n"
     ]
    },
    {
     "data": {
      "text/plain": [
       "0.8236085332595874"
      ]
     },
     "execution_count": 62,
     "metadata": {},
     "output_type": "execute_result"
    }
   ],
   "source": [
    "@btime VF(C1, C2, A, W)"
   ]
  },
  {
   "cell_type": "code",
   "execution_count": 71,
   "metadata": {},
   "outputs": [
    {
     "data": {
      "text/plain": [
       "([0.0601802, 0.848317, 0.245645], [0.640526, 0.44018, 0.388911], [0.192184, 0.376795, 0.572066], [0.937351, 0.474461, 0.698624])"
      ]
     },
     "execution_count": 71,
     "metadata": {},
     "output_type": "execute_result"
    }
   ],
   "source": [
    "P1,P2,P3,P4 = C1[1], C1[2], C2[1], C2[2]"
   ]
  },
  {
   "cell_type": "code",
   "execution_count": 81,
   "metadata": {},
   "outputs": [
    {
     "data": {
      "text/plain": [
       "7-element Array{Array{Float64,1},1}:\n",
       " [0.622852, 0.45261, 0.384547] \n",
       " [0.624734, 0.451286, 0.385012]\n",
       " [0.627778, 0.449145, 0.385764]\n",
       " [0.631458, 0.446557, 0.386672]\n",
       " [0.635138, 0.443969, 0.387581]\n",
       " [0.638182, 0.441828, 0.388332]\n",
       " [0.640065, 0.440504, 0.388797]"
      ]
     },
     "execution_count": 81,
     "metadata": {},
     "output_type": "execute_result"
    }
   ],
   "source": [
    "A = (A .+ 1.0)/2.0\n",
    "X1 = [P1 .+ a * (P2-P1) for a in A]"
   ]
  },
  {
   "cell_type": "code",
   "execution_count": 82,
   "metadata": {},
   "outputs": [
    {
     "data": {
      "text/plain": [
       "7-element Array{Array{Float64,1},1}:\n",
       " [0.914657, 0.471487, 0.69477] \n",
       " [0.917074, 0.471803, 0.69518] \n",
       " [0.920982, 0.472316, 0.695844]\n",
       " [0.925707, 0.472935, 0.696647]\n",
       " [0.930433, 0.473554, 0.697449]\n",
       " [0.934341, 0.474067, 0.698113]\n",
       " [0.936758, 0.474383, 0.698524]"
      ]
     },
     "execution_count": 82,
     "metadata": {},
     "output_type": "execute_result"
    }
   ],
   "source": [
    "S = (s .+ 1.0)/2.0\n",
    "X2 = [P3 .+ a .* (P4-P3) for a in A]"
   ]
  },
  {
   "cell_type": "code",
   "execution_count": 95,
   "metadata": {},
   "outputs": [
    {
     "data": {
      "text/plain": [
       "7×7 Array{Array{Float64,1},2}:\n",
       " [0.0851501, 0.00035634, 0.0962379]   …  [0.0985372, 0.000474094, 0.0985809]\n",
       " [0.0840551, 0.000408069, 0.0959498]     [0.097359, 0.000533492, 0.0982894] \n",
       " [0.0822994, 0.00049914, 0.0954849]      [0.0954687, 0.000636964, 0.0978188]\n",
       " [0.0802014, 0.000621483, 0.0949242]     [0.093208, 0.000774302, 0.0972513] \n",
       " [0.0781305, 0.000757224, 0.0943652]     [0.0909745, 0.000925037, 0.0966855]\n",
       " [0.0764381, 0.000879622, 0.0939041]  …  [0.0891475, 0.00105984, 0.0962188] \n",
       " [0.0754008, 0.000959894, 0.0936196]     [0.088027, 0.00114778, 0.0959307]  "
      ]
     },
     "execution_count": 95,
     "metadata": {},
     "output_type": "execute_result"
    }
   ],
   "source": [
    "R = [(x1-x2).^2 for x1 in X1, x2 in X2]"
   ]
  },
  {
   "cell_type": "code",
   "execution_count": 107,
   "metadata": {},
   "outputs": [
    {
     "data": {
      "text/plain": [
       "7×7 Array{Float64,2}:\n",
       " -0.700349  -0.696562  -0.690455  -0.683098  -0.67577   -0.669733  -0.66601 \n",
       " -0.703369  -0.699574  -0.693453  -0.686079  -0.678735  -0.672684  -0.668953\n",
       " -0.708246  -0.704438  -0.698295  -0.690895  -0.683525  -0.677451  -0.673706\n",
       " -0.714131  -0.710307  -0.704139  -0.696708  -0.689306  -0.683206  -0.679445\n",
       " -0.720001  -0.716163  -0.70997   -0.702508  -0.695076  -0.688951  -0.685173\n",
       " -0.724845  -0.720994  -0.714781  -0.707296  -0.699839  -0.693693  -0.689903\n",
       " -0.727834  -0.723976  -0.717751  -0.710251  -0.702779  -0.69662   -0.692822"
      ]
     },
     "execution_count": 107,
     "metadata": {},
     "output_type": "execute_result"
    }
   ],
   "source": [
    "log.([sum(r) for r in R]).* sum((P2-P1).*(P4-P3))"
   ]
  },
  {
   "cell_type": "code",
   "execution_count": 108,
   "metadata": {},
   "outputs": [
    {
     "data": {
      "text/plain": [
       "F2 (generic function with 1 method)"
      ]
     },
     "execution_count": 108,
     "metadata": {},
     "output_type": "execute_result"
    }
   ],
   "source": [
    "function F2(A::Array{Float64, 1},\n",
    "        P1::Array{Float64, 1},\n",
    "        P2::Array{Float64, 1},\n",
    "        P3::Array{Float64, 1},\n",
    "        P4::Array{Float64, 1})::Array{Float64, 2}\n",
    "    \n",
    "    A = (A .+ 1.0)/2.0\n",
    "    X1 = [P1 .+ a * (P2-P1) for a in A]\n",
    "    S = (s .+ 1.0)/2.0\n",
    "    X2 = [P3 .+ a .* (P4-P3) for a in A]\n",
    "    R = [(x1-x2).^2 for x1 in X1, x2 in X2]\n",
    "    return 0.5.*log.([sum(r) for r in R]).* sum((P2-P1).*(P4-P3))\n",
    "end      "
   ]
  },
  {
   "cell_type": "code",
   "execution_count": 110,
   "metadata": {},
   "outputs": [
    {
     "name": "stdout",
     "output_type": "stream",
     "text": [
      "  15.802 μs (358 allocations: 23.53 KiB)\n"
     ]
    },
    {
     "data": {
      "text/plain": [
       "7×7 Array{Float64,2}:\n",
       " -0.348303  -0.347356  -0.345825  -0.343977  -0.342134  -0.340612  -0.339672\n",
       " -0.349045  -0.348097  -0.346564  -0.344715  -0.342869  -0.341345  -0.340405\n",
       " -0.350244  -0.349294  -0.347759  -0.345906  -0.344058  -0.342531  -0.341589\n",
       " -0.351692  -0.35074   -0.349202  -0.347345  -0.345493  -0.343963  -0.343019\n",
       " -0.353139  -0.352184  -0.350643  -0.348783  -0.346927  -0.345394  -0.344448\n",
       " -0.354334  -0.353378  -0.351834  -0.349971  -0.348111  -0.346576  -0.345628\n",
       " -0.355072  -0.354115  -0.35257   -0.350705  -0.348843  -0.347306  -0.346357"
      ]
     },
     "execution_count": 110,
     "metadata": {},
     "output_type": "execute_result"
    }
   ],
   "source": [
    "@btime F2(A, P1, P2, P3, P4)"
   ]
  },
  {
   "cell_type": "code",
   "execution_count": 113,
   "metadata": {},
   "outputs": [
    {
     "name": "stdout",
     "output_type": "stream",
     "text": [
      "  6.874 μs (148 allocations: 15.23 KiB)\n"
     ]
    },
    {
     "data": {
      "text/plain": [
       "7-element Array{Array{Float64,1},1}:\n",
       " [-0.348303, -0.349045, -0.350244, -0.351692, -0.353139, -0.354334, -0.355072]\n",
       " [-0.347356, -0.348097, -0.349294, -0.35074, -0.352184, -0.353378, -0.354115] \n",
       " [-0.345825, -0.346564, -0.347759, -0.349202, -0.350643, -0.351834, -0.35257] \n",
       " [-0.343977, -0.344715, -0.345906, -0.347345, -0.348783, -0.349971, -0.350705]\n",
       " [-0.342134, -0.342869, -0.344058, -0.345493, -0.346927, -0.348111, -0.348843]\n",
       " [-0.340612, -0.341345, -0.342531, -0.343963, -0.345394, -0.346576, -0.347306]\n",
       " [-0.339672, -0.340405, -0.341589, -0.343019, -0.344448, -0.345628, -0.346357]"
      ]
     },
     "execution_count": 113,
     "metadata": {},
     "output_type": "execute_result"
    }
   ],
   "source": [
    "@btime [F(A[k], A, P1, P2, P3, P4) for k=1:7]"
   ]
  },
  {
   "cell_type": "code",
   "execution_count": null,
   "metadata": {},
   "outputs": [],
   "source": []
  }
 ],
 "metadata": {
  "kernelspec": {
   "display_name": "Julia 1.1.1",
   "language": "julia",
   "name": "julia-1.1"
  },
  "language_info": {
   "file_extension": ".jl",
   "mimetype": "application/julia",
   "name": "julia",
   "version": "1.1.1"
  }
 },
 "nbformat": 4,
 "nbformat_minor": 2
}
