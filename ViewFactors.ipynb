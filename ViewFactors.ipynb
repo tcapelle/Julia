{
 "cells": [
  {
   "cell_type": "code",
   "execution_count": 1,
   "metadata": {},
   "outputs": [],
   "source": [
    "using BenchmarkTools"
   ]
  },
  {
   "cell_type": "code",
   "execution_count": 2,
   "metadata": {},
   "outputs": [],
   "source": [
    "GP = 7\n",
    "C1 = [rand(3) for  i=1:5];\n",
    "C2 = [rand(3) for  i=1:5];"
   ]
  },
  {
   "cell_type": "code",
   "execution_count": 3,
   "metadata": {},
   "outputs": [
    {
     "data": {
      "text/plain": [
       "Gauss (generic function with 2 methods)"
      ]
     },
     "execution_count": 3,
     "metadata": {},
     "output_type": "execute_result"
    }
   ],
   "source": [
    "function Gauss(n, eps=1e-4)\n",
    "    A = zeros(n)  # Preallocations.\n",
    "    W = zeros(n)\n",
    "    m = Int((n+1)/2)\n",
    "    pp=0\n",
    "    for i=1:m\n",
    "        z = cos(pi*(i - 0.25)/(n + 0.5)) # Initial estimate.\n",
    "        z1 = z + 1\n",
    "\n",
    "        while abs(z-z1)>eps\n",
    "            p1 = 1\n",
    "            p2 = 0\n",
    "\n",
    "            for j=1:n\n",
    "                p3 = p2\n",
    "                p2 = p1\n",
    "                p1 = ((2*j-1)*z*p2-(j-1)*p3)/j # The Legendre polynomial.\n",
    "            end\n",
    "            pp = n*(z*p1-p2)/(z^2-1)   # The L.P. derivative.\n",
    "            z1 = z\n",
    "            z = z1-p1/pp\n",
    "        end\n",
    "        A[i] = -z      # Build up the abscissas.\n",
    "        A[n+1-i] = z\n",
    "        W[i] = 2/((1-z^2)*(pp^2))  # Build up the weights.\n",
    "        W[n+1-i] = W[i]\n",
    "    end\n",
    "    return A, W\n",
    "end"
   ]
  },
  {
   "cell_type": "code",
   "execution_count": 4,
   "metadata": {},
   "outputs": [
    {
     "data": {
      "text/plain": [
       "F (generic function with 1 method)"
      ]
     },
     "execution_count": 4,
     "metadata": {},
     "output_type": "execute_result"
    }
   ],
   "source": [
    "function F(s::Float64,\n",
    "        t::Array{Float64, 1},\n",
    "        P1::Array{Float64, 1},\n",
    "        P2::Array{Float64, 1},\n",
    "        P3::Array{Float64, 1},\n",
    "        P4::Array{Float64, 1})::Array{Float64, 1}\n",
    "    \n",
    "    T = (t .+ 1.0)/2.0\n",
    "    X1 = P1' .+ T * (P2 - P1)'\n",
    "    S = (s .+ 1.0)/2.0\n",
    "    X2 = P3 .+ S .* (P4 - P3)\n",
    "    R = dropdims(sum((X1' .- X2).^2, dims=1),dims=1)\n",
    "    return 0.5.*log.(R) .* sum((P2-P1).*(P4-P3))\n",
    "end                                                      "
   ]
  },
  {
   "cell_type": "code",
   "execution_count": 5,
   "metadata": {},
   "outputs": [],
   "source": [
    "A, W = Gauss(GP);"
   ]
  },
  {
   "cell_type": "code",
   "execution_count": 26,
   "metadata": {},
   "outputs": [
    {
     "data": {
      "text/plain": [
       "VF (generic function with 1 method)"
      ]
     },
     "execution_count": 26,
     "metadata": {},
     "output_type": "execute_result"
    }
   ],
   "source": [
    "function VF(C1::Array{Array{Float64, 1},1}, \n",
    "            C2::Array{Array{Float64, 1},1}, \n",
    "            A::Array{Float64, 1}, \n",
    "            W::Array{Float64, 1})::Float64\n",
    "    L1 = length(C1)-1;\n",
    "    L2 = length(C2)-1;\n",
    "    GP = length(A)\n",
    "    S = 0.0\n",
    "    for i=1:L1 # Loop over segment pairs.\n",
    "        P1 = C1[i]\n",
    "        P2 = C1[i+1]\n",
    "        for j=1:L2      \n",
    "            SM = 0.0\n",
    "            P3 = C2[j]\n",
    "            P4 = C2[j+1]\n",
    "            # Next perform the Gauss-Legendre quadrature\n",
    "            for k=1:GP\n",
    "                SM += sum(W[k] .* W .* F(A[k],A,P1,P2,P3,P4))\n",
    "            end\n",
    "            S += SM\n",
    "        end\n",
    "    end\n",
    "    return S\n",
    "end"
   ]
  },
  {
   "cell_type": "code",
   "execution_count": 27,
   "metadata": {},
   "outputs": [
    {
     "name": "stdout",
     "output_type": "stream",
     "text": [
      "  112.592 μs (2352 allocations: 255.50 KiB)\n"
     ]
    },
    {
     "data": {
      "text/plain": [
       "-2.8239450019555092"
      ]
     },
     "execution_count": 27,
     "metadata": {},
     "output_type": "execute_result"
    }
   ],
   "source": [
    "@btime VF(C1, C2, A, W)"
   ]
  },
  {
   "cell_type": "code",
   "execution_count": 8,
   "metadata": {},
   "outputs": [
    {
     "data": {
      "text/plain": [
       "([0.443297, 0.243971, 0.620686], [0.135101, 0.446645, 0.182843], [0.688806, 0.565522, 0.0318561], [0.506535, 0.791719, 0.833558])"
      ]
     },
     "execution_count": 8,
     "metadata": {},
     "output_type": "execute_result"
    }
   ],
   "source": [
    "P1,P2,P3,P4 = C1[1], C1[2], C2[1], C2[2]"
   ]
  },
  {
   "cell_type": "code",
   "execution_count": 9,
   "metadata": {},
   "outputs": [
    {
     "data": {
      "text/plain": [
       "7-element Array{Array{Float64,1},1}:\n",
       " [0.435454, 0.249128, 0.609544]\n",
       " [0.403467, 0.270163, 0.564101]\n",
       " [0.351739, 0.304181, 0.490612]\n",
       " [0.289199, 0.345308, 0.401764]\n",
       " [0.226659, 0.386435, 0.312916]\n",
       " [0.174931, 0.420452, 0.239427]\n",
       " [0.142943, 0.441487, 0.193984]"
      ]
     },
     "execution_count": 9,
     "metadata": {},
     "output_type": "execute_result"
    }
   ],
   "source": [
    "A = (A .+ 1.0)/2.0\n",
    "X1 = [P1 .+ a * (P2 - P1) for a in A]"
   ]
  },
  {
   "cell_type": "code",
   "execution_count": 10,
   "metadata": {},
   "outputs": [
    {
     "data": {
      "text/plain": [
       "7-element Array{Array{Float64,1},1}:\n",
       " [0.684168, 0.571278, 0.0522562]\n",
       " [0.66525, 0.594754, 0.135464]  \n",
       " [0.634657, 0.63272, 0.270024]  \n",
       " [0.59767, 0.678621, 0.432707]  \n",
       " [0.560684, 0.724521, 0.595391] \n",
       " [0.530091, 0.762487, 0.729951] \n",
       " [0.511173, 0.785964, 0.813158] "
      ]
     },
     "execution_count": 10,
     "metadata": {},
     "output_type": "execute_result"
    }
   ],
   "source": [
    "X2 = [P3 .+ a .* (P4 - P3) for a in A]"
   ]
  },
  {
   "cell_type": "code",
   "execution_count": 11,
   "metadata": {},
   "outputs": [
    {
     "name": "stdout",
     "output_type": "stream",
     "text": [
      "  13.037 μs (258 allocations: 12.75 KiB)\n"
     ]
    },
    {
     "data": {
      "text/plain": [
       "7×7 Array{Float64,2}:\n",
       " 0.476209  0.397016  0.302099  0.24205   0.241882  0.286991  0.335385\n",
       " 0.431448  0.35762   0.271378  0.221817  0.232137  0.285922  0.33968 \n",
       " 0.374006  0.308853  0.236641  0.204041  0.231323  0.299137  0.36157 \n",
       " 0.329219  0.274554  0.219303  0.20721   0.254998  0.339774  0.412696\n",
       " 0.311425  0.267249  0.228959  0.237372  0.305667  0.407404  0.490814\n",
       " 0.317104  0.281603  0.257343  0.282717  0.367974  0.48374   0.575825\n",
       " 0.329856  0.29972   0.284135  0.319998  0.415742  0.540184  0.637634"
      ]
     },
     "execution_count": 11,
     "metadata": {},
     "output_type": "execute_result"
    }
   ],
   "source": [
    "@btime [sum(r) for r in  [(x1 .- x2).^2 for x1 in X1, x2 in X2]]"
   ]
  },
  {
   "cell_type": "code",
   "execution_count": 28,
   "metadata": {},
   "outputs": [
    {
     "data": {
      "text/plain": [
       "F2 (generic function with 1 method)"
      ]
     },
     "execution_count": 28,
     "metadata": {},
     "output_type": "execute_result"
    }
   ],
   "source": [
    "function F2(A::Array{Float64, 1},\n",
    "        P1::Array{Float64, 1},\n",
    "        P2::Array{Float64, 1},\n",
    "        P3::Array{Float64, 1},\n",
    "        P4::Array{Float64, 1})::Array{Float64, 2}\n",
    "    \n",
    "    A = (A .+ 1.0)/2.0\n",
    "    X1 = [P1 .+ a .* (P2-P1) for a in A]\n",
    "    X2 = [P3 .+ a .* (P4-P3) for a in A]\n",
    "    R = [(x1 - x2).^2 for x1 in X1, x2 in X2]\n",
    "    return 0.5.*log.([sum(r) for r in R]).* sum((P2 - P1).*(P4 - P3))\n",
    "end      "
   ]
  },
  {
   "cell_type": "code",
   "execution_count": 29,
   "metadata": {},
   "outputs": [
    {
     "name": "stdout",
     "output_type": "stream",
     "text": [
      "  14.617 μs (347 allocations: 22.67 KiB)\n"
     ]
    },
    {
     "data": {
      "text/plain": [
       "7×7 Array{Float64,2}:\n",
       " 0.194523  0.189969  0.178532  0.15968    0.137553   0.118131   0.105976 \n",
       " 0.191064  0.185886  0.173708  0.154389   0.132162   0.112834   0.100786 \n",
       " 0.183616  0.177604  0.164527  0.144786   0.122656   0.103644   0.0918501\n",
       " 0.172073  0.165344  0.151639  0.131852   0.110183   0.0917544  0.0803659\n",
       " 0.158473  0.151318  0.137401  0.11795    0.0970014  0.0793035  0.0683884\n",
       " 0.146177  0.138851  0.124998  0.106023   0.0857923  0.068762   0.0582663\n",
       " 0.138264  0.130898  0.117165  0.0985452  0.0787915  0.0621888  0.0519581"
      ]
     },
     "execution_count": 29,
     "metadata": {},
     "output_type": "execute_result"
    }
   ],
   "source": [
    "@btime F2(A, P1, P2, P3, P4)"
   ]
  },
  {
   "cell_type": "code",
   "execution_count": 20,
   "metadata": {},
   "outputs": [
    {
     "name": "stdout",
     "output_type": "stream",
     "text": [
      "  8.033 μs (167 allocations: 16.09 KiB)\n"
     ]
    },
    {
     "data": {
      "text/plain": [
       "7×7 LinearAlgebra.Adjoint{Float64,Array{Float64,2}}:\n",
       " 0.194523  0.189969  0.178532  0.15968    0.137553   0.118131   0.105976 \n",
       " 0.191064  0.185886  0.173708  0.154389   0.132162   0.112834   0.100786 \n",
       " 0.183616  0.177604  0.164527  0.144786   0.122656   0.103644   0.0918501\n",
       " 0.172073  0.165344  0.151639  0.131852   0.110183   0.0917544  0.0803659\n",
       " 0.158473  0.151318  0.137401  0.11795    0.0970014  0.0793035  0.0683884\n",
       " 0.146177  0.138851  0.124998  0.106023   0.0857923  0.068762   0.0582663\n",
       " 0.138264  0.130898  0.117165  0.0985452  0.0787915  0.0621888  0.0519581"
      ]
     },
     "execution_count": 20,
     "metadata": {},
     "output_type": "execute_result"
    }
   ],
   "source": [
    "@btime vcat([F(A[k], A, P1, P2, P3, P4)' for k=1:7]...)'"
   ]
  },
  {
   "cell_type": "code",
   "execution_count": 21,
   "metadata": {},
   "outputs": [
    {
     "data": {
      "text/plain": [
       "VF2 (generic function with 1 method)"
      ]
     },
     "execution_count": 21,
     "metadata": {},
     "output_type": "execute_result"
    }
   ],
   "source": [
    "function VF2(C1::Array{Array{Float64, 1},1}, \n",
    "            C2::Array{Array{Float64, 1},1}, \n",
    "            A::Array{Float64, 1}, \n",
    "            W::Array{Float64, 1})::Float64\n",
    "    L1 = length(C1) - 1;\n",
    "    L2 = length(C2) - 1;\n",
    "    GP = length(A)\n",
    "    S = 0.0\n",
    "    for i=1:L1 # Loop over segment pairs.\n",
    "        P1 = C1[i]\n",
    "        P2 = C1[i+1]\n",
    "        for j=1:L2      \n",
    "            P3 = C2[j]\n",
    "            P4 = C2[j+1]\n",
    "            # Next perform the Gauss-Legendre quadrature\n",
    "            S += sum(W.*F2(A, P1, P2, P3, P4).*W')\n",
    "        end\n",
    "    end\n",
    "    return S\n",
    "end"
   ]
  },
  {
   "cell_type": "code",
   "execution_count": 22,
   "metadata": {},
   "outputs": [
    {
     "name": "stdout",
     "output_type": "stream",
     "text": [
      "  248.098 μs (5680 allocations: 382.75 KiB)\n"
     ]
    },
    {
     "data": {
      "text/plain": [
       "-2.8239450019555083"
      ]
     },
     "execution_count": 22,
     "metadata": {},
     "output_type": "execute_result"
    }
   ],
   "source": [
    "@btime VF2(C1, C2, A, W)"
   ]
  },
  {
   "cell_type": "code",
   "execution_count": 23,
   "metadata": {},
   "outputs": [
    {
     "name": "stdout",
     "output_type": "stream",
     "text": [
      "  112.197 μs (2352 allocations: 255.50 KiB)\n"
     ]
    },
    {
     "data": {
      "text/plain": [
       "-2.8239450019555092"
      ]
     },
     "execution_count": 23,
     "metadata": {},
     "output_type": "execute_result"
    }
   ],
   "source": [
    "@btime VF(C1, C2, A, W)"
   ]
  },
  {
   "cell_type": "markdown",
   "metadata": {},
   "source": [
    "## 2d version"
   ]
  },
  {
   "cell_type": "code",
   "execution_count": 32,
   "metadata": {},
   "outputs": [
    {
     "data": {
      "text/plain": [
       "7×3 Array{Float64,2}:\n",
       " 0.684168  0.571278  0.0522562\n",
       " 0.66525   0.594754  0.135464 \n",
       " 0.634657  0.63272   0.270024 \n",
       " 0.59767   0.678621  0.432707 \n",
       " 0.560684  0.724521  0.595391 \n",
       " 0.530091  0.762487  0.729951 \n",
       " 0.511173  0.785964  0.813158 "
      ]
     },
     "execution_count": 32,
     "metadata": {},
     "output_type": "execute_result"
    }
   ],
   "source": [
    "X1 = P1' .+ A * (P2-P1)'\n",
    "X2 = P3' .+ A .* (P4-P3)'"
   ]
  },
  {
   "cell_type": "code",
   "execution_count": 46,
   "metadata": {},
   "outputs": [
    {
     "data": {
      "text/plain": [
       "49×3 Array{Float64,2}:\n",
       " 0.435454  0.249128  0.609544\n",
       " 0.403467  0.270163  0.564101\n",
       " 0.351739  0.304181  0.490612\n",
       " 0.289199  0.345308  0.401764\n",
       " 0.226659  0.386435  0.312916\n",
       " 0.174931  0.420452  0.239427\n",
       " 0.142943  0.441487  0.193984\n",
       " 0.435454  0.249128  0.609544\n",
       " 0.403467  0.270163  0.564101\n",
       " 0.351739  0.304181  0.490612\n",
       " 0.289199  0.345308  0.401764\n",
       " 0.226659  0.386435  0.312916\n",
       " 0.174931  0.420452  0.239427\n",
       " ⋮                           \n",
       " 0.351739  0.304181  0.490612\n",
       " 0.289199  0.345308  0.401764\n",
       " 0.226659  0.386435  0.312916\n",
       " 0.174931  0.420452  0.239427\n",
       " 0.142943  0.441487  0.193984\n",
       " 0.435454  0.249128  0.609544\n",
       " 0.403467  0.270163  0.564101\n",
       " 0.351739  0.304181  0.490612\n",
       " 0.289199  0.345308  0.401764\n",
       " 0.226659  0.386435  0.312916\n",
       " 0.174931  0.420452  0.239427\n",
       " 0.142943  0.441487  0.193984"
      ]
     },
     "execution_count": 46,
     "metadata": {},
     "output_type": "execute_result"
    }
   ],
   "source": [
    "repeat(X1,7)"
   ]
  },
  {
   "cell_type": "code",
   "execution_count": 47,
   "metadata": {},
   "outputs": [
    {
     "data": {
      "text/plain": [
       "21×7 Array{Float64,2}:\n",
       " 0.684168   0.66525   0.634657  0.59767   0.560684  0.530091  0.511173\n",
       " 0.571278   0.594754  0.63272   0.678621  0.724521  0.762487  0.785964\n",
       " 0.0522562  0.135464  0.270024  0.432707  0.595391  0.729951  0.813158\n",
       " 0.684168   0.66525   0.634657  0.59767   0.560684  0.530091  0.511173\n",
       " 0.571278   0.594754  0.63272   0.678621  0.724521  0.762487  0.785964\n",
       " 0.0522562  0.135464  0.270024  0.432707  0.595391  0.729951  0.813158\n",
       " 0.684168   0.66525   0.634657  0.59767   0.560684  0.530091  0.511173\n",
       " 0.571278   0.594754  0.63272   0.678621  0.724521  0.762487  0.785964\n",
       " 0.0522562  0.135464  0.270024  0.432707  0.595391  0.729951  0.813158\n",
       " 0.684168   0.66525   0.634657  0.59767   0.560684  0.530091  0.511173\n",
       " 0.571278   0.594754  0.63272   0.678621  0.724521  0.762487  0.785964\n",
       " 0.0522562  0.135464  0.270024  0.432707  0.595391  0.729951  0.813158\n",
       " 0.684168   0.66525   0.634657  0.59767   0.560684  0.530091  0.511173\n",
       " 0.571278   0.594754  0.63272   0.678621  0.724521  0.762487  0.785964\n",
       " 0.0522562  0.135464  0.270024  0.432707  0.595391  0.729951  0.813158\n",
       " 0.684168   0.66525   0.634657  0.59767   0.560684  0.530091  0.511173\n",
       " 0.571278   0.594754  0.63272   0.678621  0.724521  0.762487  0.785964\n",
       " 0.0522562  0.135464  0.270024  0.432707  0.595391  0.729951  0.813158\n",
       " 0.684168   0.66525   0.634657  0.59767   0.560684  0.530091  0.511173\n",
       " 0.571278   0.594754  0.63272   0.678621  0.724521  0.762487  0.785964\n",
       " 0.0522562  0.135464  0.270024  0.432707  0.595391  0.729951  0.813158"
      ]
     },
     "execution_count": 47,
     "metadata": {},
     "output_type": "execute_result"
    }
   ],
   "source": [
    "repeat(X2', 7)"
   ]
  },
  {
   "cell_type": "code",
   "execution_count": null,
   "metadata": {},
   "outputs": [],
   "source": []
  }
 ],
 "metadata": {
  "kernelspec": {
   "display_name": "Julia 1.1.1",
   "language": "julia",
   "name": "julia-1.1"
  },
  "language_info": {
   "file_extension": ".jl",
   "mimetype": "application/julia",
   "name": "julia",
   "version": "1.1.1"
  }
 },
 "nbformat": 4,
 "nbformat_minor": 2
}
